{
 "cells": [
  {
   "cell_type": "code",
   "execution_count": 1,
   "id": "9d93848c",
   "metadata": {},
   "outputs": [
    {
     "name": "stderr",
     "output_type": "stream",
     "text": [
      "2022-11-18 22:47:40.137492: I tensorflow/core/platform/cpu_feature_guard.cc:193] This TensorFlow binary is optimized with oneAPI Deep Neural Network Library (oneDNN) to use the following CPU instructions in performance-critical operations:  AVX2 FMA\n",
      "To enable them in other operations, rebuild TensorFlow with the appropriate compiler flags.\n",
      "2022-11-18 22:47:40.241024: E tensorflow/stream_executor/cuda/cuda_blas.cc:2981] Unable to register cuBLAS factory: Attempting to register factory for plugin cuBLAS when one has already been registered\n",
      "2022-11-18 22:47:40.647151: W tensorflow/stream_executor/platform/default/dso_loader.cc:64] Could not load dynamic library 'libnvinfer.so.7'; dlerror: libnvinfer.so.7: cannot open shared object file: No such file or directory; LD_LIBRARY_PATH: :/usr/lib/:/usr/lib/x86_64-linux-gnu//usr/local/cuda/lib64/:/usr/local/cuda-11.7/lib64/::/usr/lib/:/usr/lib/x86_64-linux-gnu//usr/local/cuda/lib64/:/usr/local/cuda-11.7/lib64/::/home/sam/miniconda3/lib/\n",
      "2022-11-18 22:47:40.647199: W tensorflow/stream_executor/platform/default/dso_loader.cc:64] Could not load dynamic library 'libnvinfer_plugin.so.7'; dlerror: libnvinfer_plugin.so.7: cannot open shared object file: No such file or directory; LD_LIBRARY_PATH: :/usr/lib/:/usr/lib/x86_64-linux-gnu//usr/local/cuda/lib64/:/usr/local/cuda-11.7/lib64/::/usr/lib/:/usr/lib/x86_64-linux-gnu//usr/local/cuda/lib64/:/usr/local/cuda-11.7/lib64/::/home/sam/miniconda3/lib/\n",
      "2022-11-18 22:47:40.647203: W tensorflow/compiler/tf2tensorrt/utils/py_utils.cc:38] TF-TRT Warning: Cannot dlopen some TensorRT libraries. If you would like to use Nvidia GPU with TensorRT, please make sure the missing libraries mentioned above are installed properly.\n"
     ]
    }
   ],
   "source": [
    "import tensorflow as tf\n",
    "import pandas as pd\n",
    "import numpy as np\n",
    "import cv2"
   ]
  },
  {
   "cell_type": "code",
   "execution_count": 2,
   "id": "99eb78d9",
   "metadata": {},
   "outputs": [],
   "source": [
    "# tf.config.list_physical_devices('GPU')"
   ]
  },
  {
   "cell_type": "code",
   "execution_count": 3,
   "id": "5f6c366c",
   "metadata": {},
   "outputs": [],
   "source": [
    "# transactions = pd.read_csv(\"data/transactions_train.csv\")\n",
    "# transactions.head()"
   ]
  },
  {
   "cell_type": "code",
   "execution_count": 4,
   "id": "16b844e0",
   "metadata": {},
   "outputs": [
    {
     "data": {
      "text/html": [
       "<div>\n",
       "<style scoped>\n",
       "    .dataframe tbody tr th:only-of-type {\n",
       "        vertical-align: middle;\n",
       "    }\n",
       "\n",
       "    .dataframe tbody tr th {\n",
       "        vertical-align: top;\n",
       "    }\n",
       "\n",
       "    .dataframe thead th {\n",
       "        text-align: right;\n",
       "    }\n",
       "</style>\n",
       "<table border=\"1\" class=\"dataframe\">\n",
       "  <thead>\n",
       "    <tr style=\"text-align: right;\">\n",
       "      <th></th>\n",
       "      <th>article_id</th>\n",
       "      <th>product_code</th>\n",
       "      <th>prod_name</th>\n",
       "      <th>product_type_no</th>\n",
       "      <th>product_type_name</th>\n",
       "      <th>product_group_name</th>\n",
       "      <th>graphical_appearance_no</th>\n",
       "      <th>graphical_appearance_name</th>\n",
       "      <th>colour_group_code</th>\n",
       "      <th>colour_group_name</th>\n",
       "      <th>...</th>\n",
       "      <th>department_name</th>\n",
       "      <th>index_code</th>\n",
       "      <th>index_name</th>\n",
       "      <th>index_group_no</th>\n",
       "      <th>index_group_name</th>\n",
       "      <th>section_no</th>\n",
       "      <th>section_name</th>\n",
       "      <th>garment_group_no</th>\n",
       "      <th>garment_group_name</th>\n",
       "      <th>detail_desc</th>\n",
       "    </tr>\n",
       "  </thead>\n",
       "  <tbody>\n",
       "    <tr>\n",
       "      <th>0</th>\n",
       "      <td>108775015</td>\n",
       "      <td>108775</td>\n",
       "      <td>Strap top</td>\n",
       "      <td>253</td>\n",
       "      <td>Vest top</td>\n",
       "      <td>Garment Upper body</td>\n",
       "      <td>1010016</td>\n",
       "      <td>Solid</td>\n",
       "      <td>9</td>\n",
       "      <td>Black</td>\n",
       "      <td>...</td>\n",
       "      <td>Jersey Basic</td>\n",
       "      <td>A</td>\n",
       "      <td>Ladieswear</td>\n",
       "      <td>1</td>\n",
       "      <td>Ladieswear</td>\n",
       "      <td>16</td>\n",
       "      <td>Womens Everyday Basics</td>\n",
       "      <td>1002</td>\n",
       "      <td>Jersey Basic</td>\n",
       "      <td>Jersey top with narrow shoulder straps.</td>\n",
       "    </tr>\n",
       "    <tr>\n",
       "      <th>1</th>\n",
       "      <td>108775044</td>\n",
       "      <td>108775</td>\n",
       "      <td>Strap top</td>\n",
       "      <td>253</td>\n",
       "      <td>Vest top</td>\n",
       "      <td>Garment Upper body</td>\n",
       "      <td>1010016</td>\n",
       "      <td>Solid</td>\n",
       "      <td>10</td>\n",
       "      <td>White</td>\n",
       "      <td>...</td>\n",
       "      <td>Jersey Basic</td>\n",
       "      <td>A</td>\n",
       "      <td>Ladieswear</td>\n",
       "      <td>1</td>\n",
       "      <td>Ladieswear</td>\n",
       "      <td>16</td>\n",
       "      <td>Womens Everyday Basics</td>\n",
       "      <td>1002</td>\n",
       "      <td>Jersey Basic</td>\n",
       "      <td>Jersey top with narrow shoulder straps.</td>\n",
       "    </tr>\n",
       "    <tr>\n",
       "      <th>2</th>\n",
       "      <td>108775051</td>\n",
       "      <td>108775</td>\n",
       "      <td>Strap top (1)</td>\n",
       "      <td>253</td>\n",
       "      <td>Vest top</td>\n",
       "      <td>Garment Upper body</td>\n",
       "      <td>1010017</td>\n",
       "      <td>Stripe</td>\n",
       "      <td>11</td>\n",
       "      <td>Off White</td>\n",
       "      <td>...</td>\n",
       "      <td>Jersey Basic</td>\n",
       "      <td>A</td>\n",
       "      <td>Ladieswear</td>\n",
       "      <td>1</td>\n",
       "      <td>Ladieswear</td>\n",
       "      <td>16</td>\n",
       "      <td>Womens Everyday Basics</td>\n",
       "      <td>1002</td>\n",
       "      <td>Jersey Basic</td>\n",
       "      <td>Jersey top with narrow shoulder straps.</td>\n",
       "    </tr>\n",
       "    <tr>\n",
       "      <th>3</th>\n",
       "      <td>110065001</td>\n",
       "      <td>110065</td>\n",
       "      <td>OP T-shirt (Idro)</td>\n",
       "      <td>306</td>\n",
       "      <td>Bra</td>\n",
       "      <td>Underwear</td>\n",
       "      <td>1010016</td>\n",
       "      <td>Solid</td>\n",
       "      <td>9</td>\n",
       "      <td>Black</td>\n",
       "      <td>...</td>\n",
       "      <td>Clean Lingerie</td>\n",
       "      <td>B</td>\n",
       "      <td>Lingeries/Tights</td>\n",
       "      <td>1</td>\n",
       "      <td>Ladieswear</td>\n",
       "      <td>61</td>\n",
       "      <td>Womens Lingerie</td>\n",
       "      <td>1017</td>\n",
       "      <td>Under-, Nightwear</td>\n",
       "      <td>Microfibre T-shirt bra with underwired, moulde...</td>\n",
       "    </tr>\n",
       "    <tr>\n",
       "      <th>4</th>\n",
       "      <td>110065002</td>\n",
       "      <td>110065</td>\n",
       "      <td>OP T-shirt (Idro)</td>\n",
       "      <td>306</td>\n",
       "      <td>Bra</td>\n",
       "      <td>Underwear</td>\n",
       "      <td>1010016</td>\n",
       "      <td>Solid</td>\n",
       "      <td>10</td>\n",
       "      <td>White</td>\n",
       "      <td>...</td>\n",
       "      <td>Clean Lingerie</td>\n",
       "      <td>B</td>\n",
       "      <td>Lingeries/Tights</td>\n",
       "      <td>1</td>\n",
       "      <td>Ladieswear</td>\n",
       "      <td>61</td>\n",
       "      <td>Womens Lingerie</td>\n",
       "      <td>1017</td>\n",
       "      <td>Under-, Nightwear</td>\n",
       "      <td>Microfibre T-shirt bra with underwired, moulde...</td>\n",
       "    </tr>\n",
       "  </tbody>\n",
       "</table>\n",
       "<p>5 rows × 25 columns</p>\n",
       "</div>"
      ],
      "text/plain": [
       "   article_id  product_code          prod_name  product_type_no  \\\n",
       "0   108775015        108775          Strap top              253   \n",
       "1   108775044        108775          Strap top              253   \n",
       "2   108775051        108775      Strap top (1)              253   \n",
       "3   110065001        110065  OP T-shirt (Idro)              306   \n",
       "4   110065002        110065  OP T-shirt (Idro)              306   \n",
       "\n",
       "  product_type_name  product_group_name  graphical_appearance_no  \\\n",
       "0          Vest top  Garment Upper body                  1010016   \n",
       "1          Vest top  Garment Upper body                  1010016   \n",
       "2          Vest top  Garment Upper body                  1010017   \n",
       "3               Bra           Underwear                  1010016   \n",
       "4               Bra           Underwear                  1010016   \n",
       "\n",
       "  graphical_appearance_name  colour_group_code colour_group_name  ...  \\\n",
       "0                     Solid                  9             Black  ...   \n",
       "1                     Solid                 10             White  ...   \n",
       "2                    Stripe                 11         Off White  ...   \n",
       "3                     Solid                  9             Black  ...   \n",
       "4                     Solid                 10             White  ...   \n",
       "\n",
       "   department_name index_code        index_name index_group_no  \\\n",
       "0     Jersey Basic          A        Ladieswear              1   \n",
       "1     Jersey Basic          A        Ladieswear              1   \n",
       "2     Jersey Basic          A        Ladieswear              1   \n",
       "3   Clean Lingerie          B  Lingeries/Tights              1   \n",
       "4   Clean Lingerie          B  Lingeries/Tights              1   \n",
       "\n",
       "   index_group_name section_no            section_name garment_group_no  \\\n",
       "0        Ladieswear         16  Womens Everyday Basics             1002   \n",
       "1        Ladieswear         16  Womens Everyday Basics             1002   \n",
       "2        Ladieswear         16  Womens Everyday Basics             1002   \n",
       "3        Ladieswear         61         Womens Lingerie             1017   \n",
       "4        Ladieswear         61         Womens Lingerie             1017   \n",
       "\n",
       "   garment_group_name                                        detail_desc  \n",
       "0        Jersey Basic            Jersey top with narrow shoulder straps.  \n",
       "1        Jersey Basic            Jersey top with narrow shoulder straps.  \n",
       "2        Jersey Basic            Jersey top with narrow shoulder straps.  \n",
       "3   Under-, Nightwear  Microfibre T-shirt bra with underwired, moulde...  \n",
       "4   Under-, Nightwear  Microfibre T-shirt bra with underwired, moulde...  \n",
       "\n",
       "[5 rows x 25 columns]"
      ]
     },
     "execution_count": 4,
     "metadata": {},
     "output_type": "execute_result"
    }
   ],
   "source": [
    "articles = pd.read_csv(\"data/articles.csv\")\n",
    "articles.head()"
   ]
  },
  {
   "cell_type": "code",
   "execution_count": 5,
   "id": "c608347a",
   "metadata": {},
   "outputs": [],
   "source": [
    "# customer_0 = transactions.iloc[0]['customer_id']\n",
    "# article_ids = transactions.loc[transactions['customer_id'] == customer_0]['article_id'].to_numpy()\n",
    "\n",
    "# columns = ['product_type_name','product_type_no','product_group_name','colour_group_code', 'colour_group_name']\n",
    "\n",
    "# articles.loc[articles['article_id'].isin(article_ids)].loc[:,columns]"
   ]
  },
  {
   "cell_type": "code",
   "execution_count": 6,
   "id": "c45c77b8",
   "metadata": {},
   "outputs": [
    {
     "name": "stdout",
     "output_type": "stream",
     "text": [
      "[ -1  49  57  59  60  66  67  68  69  70  71  72  73  74  75  76  77  78\n",
      "  79  80  81  82  83  84  85  86  87  88  89  90  91  92  93  94  95  96\n",
      "  98 100 102 144 155 156 161 196 230 231 245 252 253 254 255 256 257 258\n",
      " 259 260 261 262 263 264 265 267 268 270 271 272 273 274 275 276 277 283\n",
      " 284 285 286 287 288 289 291 293 295 296 297 298 299 300 302 303 304 305\n",
      " 306 307 308 326 349 351 366 389 464 465 467 468 470 475 476 477 483 489\n",
      " 491 492 493 494 495 496 498 499 503 504 508 509 510 511 512 514 515 521\n",
      " 523 525 529 532 761 762]\n",
      "# of unique types: 132\n"
     ]
    }
   ],
   "source": [
    "unique_types = np.unique(articles['product_type_no'].to_numpy())\n",
    "print(unique_types)\n",
    "print(f\"# of unique types: {len(unique_types)}\")"
   ]
  },
  {
   "cell_type": "code",
   "execution_count": 7,
   "id": "c7e3cff7",
   "metadata": {},
   "outputs": [
    {
     "name": "stdout",
     "output_type": "stream",
     "text": [
      "[-1  1  2  3  4  5  6  7  8  9 10 11 12 13 14 15 17 19 20 21 22 23 30 31\n",
      " 32 33 40 41 42 43 50 51 52 53 60 61 62 63 70 71 72 73 80 81 82 83 90 91\n",
      " 92 93]\n",
      "# of unique colors: 50\n"
     ]
    }
   ],
   "source": [
    "unique_colors = np.unique(articles['colour_group_code'].to_numpy())\n",
    "print(unique_colors)\n",
    "print(f\"# of unique colors: {len(unique_colors)}\")"
   ]
  },
  {
   "cell_type": "code",
   "execution_count": 8,
   "id": "2d1007a5",
   "metadata": {},
   "outputs": [],
   "source": [
    "# type_dict = {}\n",
    "# for idx, val in enumerate(unique_types):\n",
    "#     type_dict[val] = idx\n",
    "    \n",
    "# color_dict = {}\n",
    "# for idx, val in enumerate(unique_colors):\n",
    "#     color_dict[val] = idx"
   ]
  },
  {
   "cell_type": "code",
   "execution_count": 9,
   "id": "3317128c",
   "metadata": {},
   "outputs": [],
   "source": [
    "from typing import Tuple, List"
   ]
  },
  {
   "cell_type": "code",
   "execution_count": 10,
   "id": "b7572e02",
   "metadata": {},
   "outputs": [],
   "source": [
    "def get_feature_vector_for_user(userid:int, type_dict:dict, color_dict:dict) -> List[Tuple[np.ndarray,np.ndarray]]:\n",
    "    article_ids = transactions.loc[transactions['customer_id'] == userid]['article_id'].to_numpy()\n",
    "    \n",
    "    columns = ['product_type_no','colour_group_code']\n",
    "    user_purchases = articles.loc[articles['article_id'].isin(article_ids)].loc[:,columns]\n",
    "    \n",
    "    feature_vector = []\n",
    "    for idx, purchase in user_purchases.iterrows():\n",
    "        type_onehot  = type_dict[purchase['product_type_no']]\n",
    "        color_onehot = color_dict[purchase['colour_group_code']]\n",
    "        \n",
    "        feature  = np.zeros(len(type_dict)+len(color_dict))\n",
    "        feature[type_onehot] = 1.0\n",
    "        feature[color_onehot+len(type_dict)] = 1.0\n",
    "        \n",
    "        feature_vector.append(feature)\n",
    "        \n",
    "    feature_vector = np.stack(feature_vector)\n",
    "    return feature_vector\n",
    "#     print(feature_vector)"
   ]
  },
  {
   "cell_type": "code",
   "execution_count": 11,
   "id": "f1999fc2",
   "metadata": {},
   "outputs": [],
   "source": [
    "# print(get_feature_vector_for_user(customer_0, type_dict, color_dict))"
   ]
  },
  {
   "cell_type": "code",
   "execution_count": 12,
   "id": "c49e269e",
   "metadata": {},
   "outputs": [],
   "source": [
    "# unique_users = np.unique(transactions['customer_id'].to_numpy())"
   ]
  },
  {
   "cell_type": "code",
   "execution_count": 13,
   "id": "255c3ab4",
   "metadata": {},
   "outputs": [],
   "source": [
    "from tqdm import tqdm"
   ]
  },
  {
   "cell_type": "code",
   "execution_count": 14,
   "id": "5c814366",
   "metadata": {},
   "outputs": [],
   "source": [
    "# N = 200\n",
    "# all_user_feature_vectors = []\n",
    "# training_users = np.random.choice(unique_users.shape[0], N, replace=False)\n",
    "# for user in tqdm(unique_users[training_users]):\n",
    "#     feature_vector = get_feature_vector_for_user(user, type_dict, color_dict)\n",
    "#     all_user_feature_vectors.append(feature_vector)"
   ]
  },
  {
   "cell_type": "code",
   "execution_count": 15,
   "id": "60d2c710",
   "metadata": {},
   "outputs": [],
   "source": [
    "def get_model(input_width:int, output_width:int, lr:float=0.01) -> tf.keras.Model:\n",
    "    model = tf.keras.Sequential([\n",
    "        tf.keras.layers.Dense(input_width, activation='relu', input_shape=(input_width,)),\n",
    "        tf.keras.layers.Dense(2*input_width, activation='relu'),\n",
    "        tf.keras.layers.Dense(2*input_width, activation='relu'),\n",
    "        tf.keras.layers.Dense(output_width, activation='softmax'),\n",
    "    ])\n",
    "    model.compile(\n",
    "        optimizer=tf.keras.optimizers.SGD(learning_rate=lr),\n",
    "        loss='categorical_crossentropy',\n",
    "        metrics=['acc']\n",
    "    )\n",
    "    return model"
   ]
  },
  {
   "cell_type": "code",
   "execution_count": 16,
   "id": "66e2cc73",
   "metadata": {},
   "outputs": [],
   "source": [
    "def get_data_permutations(all_user_feature_vectors) -> Tuple[np.ndarray,np.ndarray]:\n",
    "    inputs  = []\n",
    "    outputs = []\n",
    "    for user in all_user_feature_vectors:\n",
    "        if len(user) < 3:\n",
    "            continue\n",
    "        for i, input_feature in enumerate(user[:-1]):\n",
    "            for j, output_feature in enumerate(user):\n",
    "                if i == j:\n",
    "                    continue\n",
    "                inputs.append(np.concatenate([input_feature,user[i+1]]))\n",
    "                outputs.append(output_feature)\n",
    "    inputs = np.stack(inputs)\n",
    "    outputs = np.stack(outputs)\n",
    "    return inputs, outputs"
   ]
  },
  {
   "cell_type": "code",
   "execution_count": 17,
   "id": "ba98aea6",
   "metadata": {},
   "outputs": [],
   "source": [
    "# inputs, outputs = get_data_permutations(all_user_feature_vectors)\n",
    "# print(np.shape(inputs))\n",
    "# print(np.shape(outputs))"
   ]
  },
  {
   "cell_type": "code",
   "execution_count": 18,
   "id": "68271133",
   "metadata": {},
   "outputs": [],
   "source": [
    "epochs     = 10\n",
    "lr         = 0.05\n",
    "batch_size = 32"
   ]
  },
  {
   "cell_type": "code",
   "execution_count": 19,
   "id": "3f8f4e78",
   "metadata": {},
   "outputs": [
    {
     "name": "stderr",
     "output_type": "stream",
     "text": [
      "2022-11-18 22:47:41.761695: E tensorflow/stream_executor/cuda/cuda_driver.cc:265] failed call to cuInit: CUDA_ERROR_UNKNOWN: unknown error\n",
      "2022-11-18 22:47:41.761722: I tensorflow/stream_executor/cuda/cuda_diagnostics.cc:169] retrieving CUDA diagnostic information for host: pop-os\n",
      "2022-11-18 22:47:41.761727: I tensorflow/stream_executor/cuda/cuda_diagnostics.cc:176] hostname: pop-os\n",
      "2022-11-18 22:47:41.761815: I tensorflow/stream_executor/cuda/cuda_diagnostics.cc:200] libcuda reported version is: 515.65.1\n",
      "2022-11-18 22:47:41.761831: I tensorflow/stream_executor/cuda/cuda_diagnostics.cc:204] kernel reported version is: 515.65.1\n",
      "2022-11-18 22:47:41.761835: I tensorflow/stream_executor/cuda/cuda_diagnostics.cc:310] kernel version seems to match DSO: 515.65.1\n",
      "2022-11-18 22:47:41.762152: I tensorflow/core/platform/cpu_feature_guard.cc:193] This TensorFlow binary is optimized with oneAPI Deep Neural Network Library (oneDNN) to use the following CPU instructions in performance-critical operations:  AVX2 FMA\n",
      "To enable them in other operations, rebuild TensorFlow with the appropriate compiler flags.\n"
     ]
    }
   ],
   "source": [
    "color_model = get_model(input_width=2*(len(unique_types)+len(unique_colors)), output_width=len(unique_colors), lr=lr)\n",
    "type_model  = get_model(input_width=2*(len(unique_types)+len(unique_colors)), output_width=len(unique_types),  lr=lr)"
   ]
  },
  {
   "cell_type": "code",
   "execution_count": 20,
   "id": "f7b8f2bf",
   "metadata": {},
   "outputs": [
    {
     "name": "stdout",
     "output_type": "stream",
     "text": [
      "Model: \"sequential\"\n",
      "_________________________________________________________________\n",
      " Layer (type)                Output Shape              Param #   \n",
      "=================================================================\n",
      " dense (Dense)               (None, 364)               132860    \n",
      "                                                                 \n",
      " dense_1 (Dense)             (None, 728)               265720    \n",
      "                                                                 \n",
      " dense_2 (Dense)             (None, 728)               530712    \n",
      "                                                                 \n",
      " dense_3 (Dense)             (None, 50)                36450     \n",
      "                                                                 \n",
      "=================================================================\n",
      "Total params: 965,742\n",
      "Trainable params: 965,742\n",
      "Non-trainable params: 0\n",
      "_________________________________________________________________\n",
      "Model: \"sequential_1\"\n",
      "_________________________________________________________________\n",
      " Layer (type)                Output Shape              Param #   \n",
      "=================================================================\n",
      " dense_4 (Dense)             (None, 364)               132860    \n",
      "                                                                 \n",
      " dense_5 (Dense)             (None, 728)               265720    \n",
      "                                                                 \n",
      " dense_6 (Dense)             (None, 728)               530712    \n",
      "                                                                 \n",
      " dense_7 (Dense)             (None, 132)               96228     \n",
      "                                                                 \n",
      "=================================================================\n",
      "Total params: 1,025,520\n",
      "Trainable params: 1,025,520\n",
      "Non-trainable params: 0\n",
      "_________________________________________________________________\n"
     ]
    }
   ],
   "source": [
    "color_model.summary()\n",
    "type_model.summary()"
   ]
  },
  {
   "cell_type": "code",
   "execution_count": 21,
   "id": "a03aaf5e",
   "metadata": {},
   "outputs": [
    {
     "data": {
      "text/plain": [
       "<tensorflow.python.checkpoint.checkpoint.CheckpointLoadStatus at 0x7f920643d880>"
      ]
     },
     "execution_count": 21,
     "metadata": {},
     "output_type": "execute_result"
    }
   ],
   "source": [
    "color_model.load_weights('weights/color/color_prediction.weights')\n",
    "type_model.load_weights('weights/type/type_prediction.weights')"
   ]
  },
  {
   "cell_type": "code",
   "execution_count": 22,
   "id": "a77e5fe9",
   "metadata": {},
   "outputs": [],
   "source": [
    "# np.shape(outputs[:,len(unique_types):])"
   ]
  },
  {
   "cell_type": "code",
   "execution_count": 23,
   "id": "16af805b",
   "metadata": {},
   "outputs": [],
   "source": [
    "# color_model.fit(inputs,outputs[:,len(unique_types):],epochs=epochs,batch_size=batch_size)"
   ]
  },
  {
   "cell_type": "code",
   "execution_count": 24,
   "id": "dbd41f1c",
   "metadata": {},
   "outputs": [],
   "source": [
    "# np.shape(outputs[:,:len(unique_types)])"
   ]
  },
  {
   "cell_type": "code",
   "execution_count": 25,
   "id": "36dc3d6d",
   "metadata": {},
   "outputs": [],
   "source": [
    "# history = type_model.fit(inputs,outputs[:,:len(unique_types)],epochs=epochs)"
   ]
  },
  {
   "cell_type": "code",
   "execution_count": 26,
   "id": "0ff3e5f3",
   "metadata": {},
   "outputs": [],
   "source": [
    "import matplotlib.pyplot as plt"
   ]
  },
  {
   "cell_type": "code",
   "execution_count": 27,
   "id": "a30c5fa7",
   "metadata": {},
   "outputs": [],
   "source": [
    "# plt.plot(history.history['loss'], label = 'training_loss')\n",
    "# plt.plot(history.history['acc'], label = 'training_accuracy')\n",
    "# plt.legend()\n",
    "# plt.grid(True)\n",
    "# plt.show()"
   ]
  },
  {
   "cell_type": "code",
   "execution_count": 28,
   "id": "58988994",
   "metadata": {},
   "outputs": [],
   "source": [
    "# type_model.save_weights('weights/type/type_prediction.weights')\n",
    "# color_model.save_weights('weights/color/color_prediction.weights')"
   ]
  },
  {
   "cell_type": "code",
   "execution_count": 29,
   "id": "1d8f34fb",
   "metadata": {},
   "outputs": [],
   "source": [
    "# N = 50\n",
    "# test_user_feature_vectors = []\n",
    "# testing_users = np.random.choice(unique_users.shape[0], N, replace=False)\n",
    "# for user in tqdm(unique_users[testing_users]):\n",
    "#     feature_vector = get_feature_vector_for_user(user, type_dict, color_dict)\n",
    "#     test_user_feature_vectors.append(feature_vector)"
   ]
  },
  {
   "cell_type": "code",
   "execution_count": 30,
   "id": "68c1e036",
   "metadata": {},
   "outputs": [],
   "source": [
    "# test_inputs, test_outputs = get_data_permutations(test_user_feature_vectors)"
   ]
  },
  {
   "cell_type": "code",
   "execution_count": 31,
   "id": "ab88117d",
   "metadata": {},
   "outputs": [],
   "source": [
    "# print(np.shape(test_inputs))"
   ]
  },
  {
   "cell_type": "code",
   "execution_count": 32,
   "id": "9e2519b7",
   "metadata": {},
   "outputs": [],
   "source": [
    "# predicted_colors = color_model.predict(test_inputs)\n",
    "# predicted_types  = type_model.predict(test_inputs)"
   ]
  },
  {
   "cell_type": "code",
   "execution_count": 33,
   "id": "8bc3fc42",
   "metadata": {},
   "outputs": [],
   "source": [
    "# colors_predicted = np.argmax(predicted_colors,axis=-1)\n",
    "# colors_actual = np.argmax(test_outputs[:,len(unique_types):],axis=-1)\n",
    "\n",
    "# _, false_true = np.unique(colors_predicted==colors_actual,return_counts=True)\n",
    "\n",
    "# accuracy = false_true[-1] / len(test_outputs)\n",
    "# print(f\"color accuracy: {round(accuracy,4)*100}%\")"
   ]
  },
  {
   "cell_type": "code",
   "execution_count": 34,
   "id": "d4fcab1f",
   "metadata": {},
   "outputs": [],
   "source": [
    "# types_predicted = np.argmax(predicted_types,axis=-1)\n",
    "# types_actual = np.argmax(test_outputs[:,:len(unique_types)],axis=-1)\n",
    "\n",
    "# _, false_true = np.unique(types_predicted==types_actual,return_counts=True)\n",
    "\n",
    "# accuracy = false_true[-1] / len(test_outputs)\n",
    "# print(f\"type accuracy: {round(accuracy,4)*100}%\")"
   ]
  },
  {
   "cell_type": "code",
   "execution_count": 35,
   "id": "a7129f21",
   "metadata": {},
   "outputs": [],
   "source": [
    "# article_dict = {\n",
    "#     'label':[],\n",
    "#     'code':[],\n",
    "#     'oh':[],\n",
    "# }\n",
    "# for article_type, onehot in type_dict.items():\n",
    "# #     print(article_type)\n",
    "#     article_dict['label'].append(articles.loc[articles['product_type_no']==article_type]['product_type_name'].iloc[0])\n",
    "#     article_dict['code'].append(article_type)\n",
    "#     article_dict['oh'].append(onehot)\n",
    "    \n",
    "# article_df = pd.DataFrame(article_dict)\n",
    "# print(article_df)\n",
    "# article_df.to_csv(\"data/article_dict.csv\")"
   ]
  },
  {
   "cell_type": "code",
   "execution_count": 36,
   "id": "0cbdfd1c",
   "metadata": {},
   "outputs": [],
   "source": [
    "# colors_dict = {\n",
    "#     'label':[],\n",
    "#     'code':[],\n",
    "#     'oh':[],\n",
    "# }\n",
    "# for color_type, onehot in color_dict.items():\n",
    "#     colors_dict['label'].append(articles.loc[articles['colour_group_code']==color_type]['colour_group_name'].iloc[0])\n",
    "#     colors_dict['code'].append(color_type)\n",
    "#     colors_dict['oh'].append(onehot)\n",
    "    \n",
    "# color_df = pd.DataFrame(colors_dict)\n",
    "# print(color_df)\n",
    "# color_df.to_csv(\"data/colors_dict.csv\")"
   ]
  },
  {
   "cell_type": "code",
   "execution_count": 37,
   "id": "72e62e43",
   "metadata": {},
   "outputs": [],
   "source": [
    "color_df = pd.read_csv(\"data/colors_dict.csv\")\n",
    "article_df = pd.read_csv(\"data/article_dict.csv\")"
   ]
  },
  {
   "cell_type": "code",
   "execution_count": 42,
   "id": "5896ea19",
   "metadata": {},
   "outputs": [],
   "source": [
    "def do_inference(\n",
    "    item_type:Tuple[str,str],\n",
    "    item_color:Tuple[str,str],\n",
    "    type_df:pd.DataFrame,\n",
    "    color_df:pd.DataFrame,\n",
    "    type_model:tf.keras.Model,\n",
    "    color_model:tf.keras.Model\n",
    ") -> Tuple[str,str]:\n",
    "    '''\n",
    "    This function takes in 2 type values and 2 color values,\n",
    "    It will then produce the four top predictions of type values and color values\n",
    "    '''\n",
    "\n",
    "    num_type_categories  = 132\n",
    "    num_color_categories = 50\n",
    "    \n",
    "    type_idx  = type_df.loc[type_df['label'].isin(item_type)]['oh'].values\n",
    "    color_idx = color_df.loc[color_df['label'].isin(item_color)]['oh'].values\n",
    "    \n",
    "    input_vector = np.zeros((1,2*(num_type_categories+num_color_categories)))\n",
    "    input_vector[0][type_idx[0]] = 1.0\n",
    "    input_vector[0][num_type_categories+color_idx[0]] = 1.0\n",
    "    input_vector[0][num_type_categories+num_color_categories+type_idx[1]] = 1.0\n",
    "    input_vector[0][(2*num_type_categories)+num_color_categories+color_idx[1]] = 1.0\n",
    "        \n",
    "    type_prediction  = type_model.predict(input_vector,verbose=0)\n",
    "    color_prediction = color_model.predict(input_vector,verbose=0)\n",
    "    \n",
    "    unsorted_top_types  = np.argpartition(type_prediction, -4)[0][-4:]\n",
    "    unsorted_top_colors = np.argpartition(color_prediction, -4)[0][-4:]\n",
    "    \n",
    "    top_types  = unsorted_top_types[np.argsort(type_prediction[0,unsorted_top_types])]\n",
    "    top_colors = unsorted_top_colors[np.argsort(color_prediction[0,unsorted_top_colors])]\n",
    "    \n",
    "    type_lookup  = type_df.loc[type_df['oh'].isin(top_types)]['label'].values\n",
    "    color_lookup = color_df.loc[color_df['oh'].isin(top_colors)]['label'].values\n",
    "    \n",
    "    return type_lookup, color_lookup"
   ]
  },
  {
   "cell_type": "code",
   "execution_count": 39,
   "id": "e90241d3",
   "metadata": {},
   "outputs": [],
   "source": [
    "from math import floor"
   ]
  },
  {
   "cell_type": "code",
   "execution_count": 49,
   "id": "7d9d515c",
   "metadata": {},
   "outputs": [
    {
     "name": "stdout",
     "output_type": "stream",
     "text": [
      "Generating predictions for a user that likes Other Yellow Felt hat, and Dark Purple Sneakers\n",
      "Recommendation #1: Black Swimwear bottom\n",
      "Recommendation #2: White Dress\n",
      "Recommendation #3: Red Trousers\n",
      "Recommendation #4: Dark Blue Bikini top\n"
     ]
    }
   ],
   "source": [
    "#YOU CAN RERUN THIS CELL MULTIPLE TIMES TO GENERATE MULTIPLE PREDICTIONS FOR DIFFERENT CLOTHING SETUPS\n",
    "input_type  = [article_df.sample()['label'].values[0],article_df.sample()['label'].values[0]]\n",
    "input_color = [color_df.sample()['label'].values[0],color_df.sample()['label'].values[0]]\n",
    "\n",
    "#THIS IS WHERE INFERENCE IS ACTUALLY BEING RAN\n",
    "type_rec, color_rec = do_inference(\n",
    "    item_type=input_type,\n",
    "    item_color=input_color,\n",
    "    type_df=article_df,\n",
    "    color_df=color_df,\n",
    "    type_model=type_model,\n",
    "    color_model=color_model)\n",
    "\n",
    "print(f\"Generating predictions for a user that likes {input_color[0]} {input_type[0]}, and {input_color[1]} {input_type[1]}\")\n",
    "\n",
    "# f, axarr = plt.subplots(2,2)\n",
    "for idx, color in enumerate(color_rec):\n",
    "    print(f\"Recommendation #{idx+1}: {color} {type_rec[idx]}\")\n",
    "#     example_articles = articles.loc[articles['product_type_name']==type_rec[idx]]\n",
    "#     example_articles = example_articles.loc[example_articles['colour_group_name']==color]\n",
    "#     article_id = example_articles.sample()['article_id'].values[0]\n",
    "#     article_filename = f\"data/images/{f'0{article_id}'[:3]}/{f'0{article_id}.jpg'}\"\n",
    "#     try:\n",
    "#         image = cv2.imread(article_filename)\n",
    "#         x = floor(idx/2)\n",
    "#         y = idx%2\n",
    "#         axarr[x,y].imshow(image)\n",
    "#         axarr[x,y].title.set_text(f\"{color} {type_rec[idx]}\")\n",
    "#     except:\n",
    "#         print(f\"Failed to open image: {article_filename}\")\n",
    "#         pass\n",
    "# f.tight_layout(pad=1)\n",
    "# plt.show()"
   ]
  },
  {
   "cell_type": "code",
   "execution_count": null,
   "id": "242aa001",
   "metadata": {},
   "outputs": [],
   "source": []
  },
  {
   "cell_type": "code",
   "execution_count": null,
   "id": "0fab8cde",
   "metadata": {},
   "outputs": [],
   "source": []
  }
 ],
 "metadata": {
  "kernelspec": {
   "display_name": "Python 3 (ipykernel)",
   "language": "python",
   "name": "python3"
  },
  "language_info": {
   "codemirror_mode": {
    "name": "ipython",
    "version": 3
   },
   "file_extension": ".py",
   "mimetype": "text/x-python",
   "name": "python",
   "nbconvert_exporter": "python",
   "pygments_lexer": "ipython3",
   "version": "3.9.15"
  }
 },
 "nbformat": 4,
 "nbformat_minor": 5
}
