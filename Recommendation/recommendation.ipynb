{
 "cells": [
  {
   "cell_type": "code",
   "execution_count": 1,
   "id": "9d93848c",
   "metadata": {},
   "outputs": [
    {
     "name": "stderr",
     "output_type": "stream",
     "text": [
      "2022-11-18 12:24:32.054211: I tensorflow/core/platform/cpu_feature_guard.cc:193] This TensorFlow binary is optimized with oneAPI Deep Neural Network Library (oneDNN) to use the following CPU instructions in performance-critical operations:  AVX2 FMA\n",
      "To enable them in other operations, rebuild TensorFlow with the appropriate compiler flags.\n",
      "2022-11-18 12:24:32.156043: E tensorflow/stream_executor/cuda/cuda_blas.cc:2981] Unable to register cuBLAS factory: Attempting to register factory for plugin cuBLAS when one has already been registered\n",
      "2022-11-18 12:24:32.557553: W tensorflow/stream_executor/platform/default/dso_loader.cc:64] Could not load dynamic library 'libnvinfer.so.7'; dlerror: libnvinfer.so.7: cannot open shared object file: No such file or directory; LD_LIBRARY_PATH: :/usr/lib/:/usr/lib/x86_64-linux-gnu//usr/local/cuda/lib64/:/usr/local/cuda-11.7/lib64/::/usr/lib/:/usr/lib/x86_64-linux-gnu//usr/local/cuda/lib64/:/usr/local/cuda-11.7/lib64/::/home/sam/miniconda3/lib/:/home/sam/miniconda3/lib/\n",
      "2022-11-18 12:24:32.557601: W tensorflow/stream_executor/platform/default/dso_loader.cc:64] Could not load dynamic library 'libnvinfer_plugin.so.7'; dlerror: libnvinfer_plugin.so.7: cannot open shared object file: No such file or directory; LD_LIBRARY_PATH: :/usr/lib/:/usr/lib/x86_64-linux-gnu//usr/local/cuda/lib64/:/usr/local/cuda-11.7/lib64/::/usr/lib/:/usr/lib/x86_64-linux-gnu//usr/local/cuda/lib64/:/usr/local/cuda-11.7/lib64/::/home/sam/miniconda3/lib/:/home/sam/miniconda3/lib/\n",
      "2022-11-18 12:24:32.557606: W tensorflow/compiler/tf2tensorrt/utils/py_utils.cc:38] TF-TRT Warning: Cannot dlopen some TensorRT libraries. If you would like to use Nvidia GPU with TensorRT, please make sure the missing libraries mentioned above are installed properly.\n"
     ]
    }
   ],
   "source": [
    "import tensorflow as tf\n",
    "import pandas as pd\n",
    "import numpy as np\n",
    "import cv2"
   ]
  },
  {
   "cell_type": "code",
   "execution_count": 2,
   "id": "99eb78d9",
   "metadata": {},
   "outputs": [
    {
     "name": "stderr",
     "output_type": "stream",
     "text": [
      "2022-11-18 12:24:33.109298: I tensorflow/stream_executor/cuda/cuda_gpu_executor.cc:980] successful NUMA node read from SysFS had negative value (-1), but there must be at least one NUMA node, so returning NUMA node zero\n",
      "2022-11-18 12:24:33.196238: I tensorflow/stream_executor/cuda/cuda_gpu_executor.cc:980] successful NUMA node read from SysFS had negative value (-1), but there must be at least one NUMA node, so returning NUMA node zero\n",
      "2022-11-18 12:24:33.196405: I tensorflow/stream_executor/cuda/cuda_gpu_executor.cc:980] successful NUMA node read from SysFS had negative value (-1), but there must be at least one NUMA node, so returning NUMA node zero\n"
     ]
    },
    {
     "data": {
      "text/plain": [
       "[PhysicalDevice(name='/physical_device:GPU:0', device_type='GPU')]"
      ]
     },
     "execution_count": 2,
     "metadata": {},
     "output_type": "execute_result"
    }
   ],
   "source": [
    "tf.config.list_physical_devices('GPU')"
   ]
  },
  {
   "cell_type": "code",
   "execution_count": 3,
   "id": "5f6c366c",
   "metadata": {},
   "outputs": [
    {
     "data": {
      "text/html": [
       "<div>\n",
       "<style scoped>\n",
       "    .dataframe tbody tr th:only-of-type {\n",
       "        vertical-align: middle;\n",
       "    }\n",
       "\n",
       "    .dataframe tbody tr th {\n",
       "        vertical-align: top;\n",
       "    }\n",
       "\n",
       "    .dataframe thead th {\n",
       "        text-align: right;\n",
       "    }\n",
       "</style>\n",
       "<table border=\"1\" class=\"dataframe\">\n",
       "  <thead>\n",
       "    <tr style=\"text-align: right;\">\n",
       "      <th></th>\n",
       "      <th>t_dat</th>\n",
       "      <th>customer_id</th>\n",
       "      <th>article_id</th>\n",
       "      <th>price</th>\n",
       "      <th>sales_channel_id</th>\n",
       "    </tr>\n",
       "  </thead>\n",
       "  <tbody>\n",
       "    <tr>\n",
       "      <th>0</th>\n",
       "      <td>2018-09-20</td>\n",
       "      <td>000058a12d5b43e67d225668fa1f8d618c13dc232df0ca...</td>\n",
       "      <td>663713001</td>\n",
       "      <td>0.050831</td>\n",
       "      <td>2</td>\n",
       "    </tr>\n",
       "    <tr>\n",
       "      <th>1</th>\n",
       "      <td>2018-09-20</td>\n",
       "      <td>000058a12d5b43e67d225668fa1f8d618c13dc232df0ca...</td>\n",
       "      <td>541518023</td>\n",
       "      <td>0.030492</td>\n",
       "      <td>2</td>\n",
       "    </tr>\n",
       "    <tr>\n",
       "      <th>2</th>\n",
       "      <td>2018-09-20</td>\n",
       "      <td>00007d2de826758b65a93dd24ce629ed66842531df6699...</td>\n",
       "      <td>505221004</td>\n",
       "      <td>0.015237</td>\n",
       "      <td>2</td>\n",
       "    </tr>\n",
       "    <tr>\n",
       "      <th>3</th>\n",
       "      <td>2018-09-20</td>\n",
       "      <td>00007d2de826758b65a93dd24ce629ed66842531df6699...</td>\n",
       "      <td>685687003</td>\n",
       "      <td>0.016932</td>\n",
       "      <td>2</td>\n",
       "    </tr>\n",
       "    <tr>\n",
       "      <th>4</th>\n",
       "      <td>2018-09-20</td>\n",
       "      <td>00007d2de826758b65a93dd24ce629ed66842531df6699...</td>\n",
       "      <td>685687004</td>\n",
       "      <td>0.016932</td>\n",
       "      <td>2</td>\n",
       "    </tr>\n",
       "  </tbody>\n",
       "</table>\n",
       "</div>"
      ],
      "text/plain": [
       "        t_dat                                        customer_id  article_id  \\\n",
       "0  2018-09-20  000058a12d5b43e67d225668fa1f8d618c13dc232df0ca...   663713001   \n",
       "1  2018-09-20  000058a12d5b43e67d225668fa1f8d618c13dc232df0ca...   541518023   \n",
       "2  2018-09-20  00007d2de826758b65a93dd24ce629ed66842531df6699...   505221004   \n",
       "3  2018-09-20  00007d2de826758b65a93dd24ce629ed66842531df6699...   685687003   \n",
       "4  2018-09-20  00007d2de826758b65a93dd24ce629ed66842531df6699...   685687004   \n",
       "\n",
       "      price  sales_channel_id  \n",
       "0  0.050831                 2  \n",
       "1  0.030492                 2  \n",
       "2  0.015237                 2  \n",
       "3  0.016932                 2  \n",
       "4  0.016932                 2  "
      ]
     },
     "execution_count": 3,
     "metadata": {},
     "output_type": "execute_result"
    }
   ],
   "source": [
    "transactions = pd.read_csv(\"data/transactions_train.csv\")\n",
    "transactions.head()"
   ]
  },
  {
   "cell_type": "code",
   "execution_count": 4,
   "id": "16b844e0",
   "metadata": {},
   "outputs": [
    {
     "data": {
      "text/html": [
       "<div>\n",
       "<style scoped>\n",
       "    .dataframe tbody tr th:only-of-type {\n",
       "        vertical-align: middle;\n",
       "    }\n",
       "\n",
       "    .dataframe tbody tr th {\n",
       "        vertical-align: top;\n",
       "    }\n",
       "\n",
       "    .dataframe thead th {\n",
       "        text-align: right;\n",
       "    }\n",
       "</style>\n",
       "<table border=\"1\" class=\"dataframe\">\n",
       "  <thead>\n",
       "    <tr style=\"text-align: right;\">\n",
       "      <th></th>\n",
       "      <th>article_id</th>\n",
       "      <th>product_code</th>\n",
       "      <th>prod_name</th>\n",
       "      <th>product_type_no</th>\n",
       "      <th>product_type_name</th>\n",
       "      <th>product_group_name</th>\n",
       "      <th>graphical_appearance_no</th>\n",
       "      <th>graphical_appearance_name</th>\n",
       "      <th>colour_group_code</th>\n",
       "      <th>colour_group_name</th>\n",
       "      <th>...</th>\n",
       "      <th>department_name</th>\n",
       "      <th>index_code</th>\n",
       "      <th>index_name</th>\n",
       "      <th>index_group_no</th>\n",
       "      <th>index_group_name</th>\n",
       "      <th>section_no</th>\n",
       "      <th>section_name</th>\n",
       "      <th>garment_group_no</th>\n",
       "      <th>garment_group_name</th>\n",
       "      <th>detail_desc</th>\n",
       "    </tr>\n",
       "  </thead>\n",
       "  <tbody>\n",
       "    <tr>\n",
       "      <th>0</th>\n",
       "      <td>108775015</td>\n",
       "      <td>108775</td>\n",
       "      <td>Strap top</td>\n",
       "      <td>253</td>\n",
       "      <td>Vest top</td>\n",
       "      <td>Garment Upper body</td>\n",
       "      <td>1010016</td>\n",
       "      <td>Solid</td>\n",
       "      <td>9</td>\n",
       "      <td>Black</td>\n",
       "      <td>...</td>\n",
       "      <td>Jersey Basic</td>\n",
       "      <td>A</td>\n",
       "      <td>Ladieswear</td>\n",
       "      <td>1</td>\n",
       "      <td>Ladieswear</td>\n",
       "      <td>16</td>\n",
       "      <td>Womens Everyday Basics</td>\n",
       "      <td>1002</td>\n",
       "      <td>Jersey Basic</td>\n",
       "      <td>Jersey top with narrow shoulder straps.</td>\n",
       "    </tr>\n",
       "    <tr>\n",
       "      <th>1</th>\n",
       "      <td>108775044</td>\n",
       "      <td>108775</td>\n",
       "      <td>Strap top</td>\n",
       "      <td>253</td>\n",
       "      <td>Vest top</td>\n",
       "      <td>Garment Upper body</td>\n",
       "      <td>1010016</td>\n",
       "      <td>Solid</td>\n",
       "      <td>10</td>\n",
       "      <td>White</td>\n",
       "      <td>...</td>\n",
       "      <td>Jersey Basic</td>\n",
       "      <td>A</td>\n",
       "      <td>Ladieswear</td>\n",
       "      <td>1</td>\n",
       "      <td>Ladieswear</td>\n",
       "      <td>16</td>\n",
       "      <td>Womens Everyday Basics</td>\n",
       "      <td>1002</td>\n",
       "      <td>Jersey Basic</td>\n",
       "      <td>Jersey top with narrow shoulder straps.</td>\n",
       "    </tr>\n",
       "    <tr>\n",
       "      <th>2</th>\n",
       "      <td>108775051</td>\n",
       "      <td>108775</td>\n",
       "      <td>Strap top (1)</td>\n",
       "      <td>253</td>\n",
       "      <td>Vest top</td>\n",
       "      <td>Garment Upper body</td>\n",
       "      <td>1010017</td>\n",
       "      <td>Stripe</td>\n",
       "      <td>11</td>\n",
       "      <td>Off White</td>\n",
       "      <td>...</td>\n",
       "      <td>Jersey Basic</td>\n",
       "      <td>A</td>\n",
       "      <td>Ladieswear</td>\n",
       "      <td>1</td>\n",
       "      <td>Ladieswear</td>\n",
       "      <td>16</td>\n",
       "      <td>Womens Everyday Basics</td>\n",
       "      <td>1002</td>\n",
       "      <td>Jersey Basic</td>\n",
       "      <td>Jersey top with narrow shoulder straps.</td>\n",
       "    </tr>\n",
       "    <tr>\n",
       "      <th>3</th>\n",
       "      <td>110065001</td>\n",
       "      <td>110065</td>\n",
       "      <td>OP T-shirt (Idro)</td>\n",
       "      <td>306</td>\n",
       "      <td>Bra</td>\n",
       "      <td>Underwear</td>\n",
       "      <td>1010016</td>\n",
       "      <td>Solid</td>\n",
       "      <td>9</td>\n",
       "      <td>Black</td>\n",
       "      <td>...</td>\n",
       "      <td>Clean Lingerie</td>\n",
       "      <td>B</td>\n",
       "      <td>Lingeries/Tights</td>\n",
       "      <td>1</td>\n",
       "      <td>Ladieswear</td>\n",
       "      <td>61</td>\n",
       "      <td>Womens Lingerie</td>\n",
       "      <td>1017</td>\n",
       "      <td>Under-, Nightwear</td>\n",
       "      <td>Microfibre T-shirt bra with underwired, moulde...</td>\n",
       "    </tr>\n",
       "    <tr>\n",
       "      <th>4</th>\n",
       "      <td>110065002</td>\n",
       "      <td>110065</td>\n",
       "      <td>OP T-shirt (Idro)</td>\n",
       "      <td>306</td>\n",
       "      <td>Bra</td>\n",
       "      <td>Underwear</td>\n",
       "      <td>1010016</td>\n",
       "      <td>Solid</td>\n",
       "      <td>10</td>\n",
       "      <td>White</td>\n",
       "      <td>...</td>\n",
       "      <td>Clean Lingerie</td>\n",
       "      <td>B</td>\n",
       "      <td>Lingeries/Tights</td>\n",
       "      <td>1</td>\n",
       "      <td>Ladieswear</td>\n",
       "      <td>61</td>\n",
       "      <td>Womens Lingerie</td>\n",
       "      <td>1017</td>\n",
       "      <td>Under-, Nightwear</td>\n",
       "      <td>Microfibre T-shirt bra with underwired, moulde...</td>\n",
       "    </tr>\n",
       "  </tbody>\n",
       "</table>\n",
       "<p>5 rows × 25 columns</p>\n",
       "</div>"
      ],
      "text/plain": [
       "   article_id  product_code          prod_name  product_type_no  \\\n",
       "0   108775015        108775          Strap top              253   \n",
       "1   108775044        108775          Strap top              253   \n",
       "2   108775051        108775      Strap top (1)              253   \n",
       "3   110065001        110065  OP T-shirt (Idro)              306   \n",
       "4   110065002        110065  OP T-shirt (Idro)              306   \n",
       "\n",
       "  product_type_name  product_group_name  graphical_appearance_no  \\\n",
       "0          Vest top  Garment Upper body                  1010016   \n",
       "1          Vest top  Garment Upper body                  1010016   \n",
       "2          Vest top  Garment Upper body                  1010017   \n",
       "3               Bra           Underwear                  1010016   \n",
       "4               Bra           Underwear                  1010016   \n",
       "\n",
       "  graphical_appearance_name  colour_group_code colour_group_name  ...  \\\n",
       "0                     Solid                  9             Black  ...   \n",
       "1                     Solid                 10             White  ...   \n",
       "2                    Stripe                 11         Off White  ...   \n",
       "3                     Solid                  9             Black  ...   \n",
       "4                     Solid                 10             White  ...   \n",
       "\n",
       "   department_name index_code        index_name index_group_no  \\\n",
       "0     Jersey Basic          A        Ladieswear              1   \n",
       "1     Jersey Basic          A        Ladieswear              1   \n",
       "2     Jersey Basic          A        Ladieswear              1   \n",
       "3   Clean Lingerie          B  Lingeries/Tights              1   \n",
       "4   Clean Lingerie          B  Lingeries/Tights              1   \n",
       "\n",
       "   index_group_name section_no            section_name garment_group_no  \\\n",
       "0        Ladieswear         16  Womens Everyday Basics             1002   \n",
       "1        Ladieswear         16  Womens Everyday Basics             1002   \n",
       "2        Ladieswear         16  Womens Everyday Basics             1002   \n",
       "3        Ladieswear         61         Womens Lingerie             1017   \n",
       "4        Ladieswear         61         Womens Lingerie             1017   \n",
       "\n",
       "   garment_group_name                                        detail_desc  \n",
       "0        Jersey Basic            Jersey top with narrow shoulder straps.  \n",
       "1        Jersey Basic            Jersey top with narrow shoulder straps.  \n",
       "2        Jersey Basic            Jersey top with narrow shoulder straps.  \n",
       "3   Under-, Nightwear  Microfibre T-shirt bra with underwired, moulde...  \n",
       "4   Under-, Nightwear  Microfibre T-shirt bra with underwired, moulde...  \n",
       "\n",
       "[5 rows x 25 columns]"
      ]
     },
     "execution_count": 4,
     "metadata": {},
     "output_type": "execute_result"
    }
   ],
   "source": [
    "articles = pd.read_csv(\"data/articles.csv\")\n",
    "articles.head()"
   ]
  },
  {
   "cell_type": "code",
   "execution_count": 5,
   "id": "c608347a",
   "metadata": {},
   "outputs": [
    {
     "data": {
      "text/html": [
       "<div>\n",
       "<style scoped>\n",
       "    .dataframe tbody tr th:only-of-type {\n",
       "        vertical-align: middle;\n",
       "    }\n",
       "\n",
       "    .dataframe tbody tr th {\n",
       "        vertical-align: top;\n",
       "    }\n",
       "\n",
       "    .dataframe thead th {\n",
       "        text-align: right;\n",
       "    }\n",
       "</style>\n",
       "<table border=\"1\" class=\"dataframe\">\n",
       "  <thead>\n",
       "    <tr style=\"text-align: right;\">\n",
       "      <th></th>\n",
       "      <th>product_type_name</th>\n",
       "      <th>product_type_no</th>\n",
       "      <th>product_group_name</th>\n",
       "      <th>colour_group_code</th>\n",
       "      <th>colour_group_name</th>\n",
       "    </tr>\n",
       "  </thead>\n",
       "  <tbody>\n",
       "    <tr>\n",
       "      <th>1469</th>\n",
       "      <td>Swimwear bottom</td>\n",
       "      <td>59</td>\n",
       "      <td>Swimwear</td>\n",
       "      <td>9</td>\n",
       "      <td>Black</td>\n",
       "    </tr>\n",
       "    <tr>\n",
       "      <th>10520</th>\n",
       "      <td>Bra</td>\n",
       "      <td>306</td>\n",
       "      <td>Underwear</td>\n",
       "      <td>51</td>\n",
       "      <td>Light Pink</td>\n",
       "    </tr>\n",
       "    <tr>\n",
       "      <th>18197</th>\n",
       "      <td>Blouse</td>\n",
       "      <td>258</td>\n",
       "      <td>Garment Upper body</td>\n",
       "      <td>71</td>\n",
       "      <td>Light Blue</td>\n",
       "    </tr>\n",
       "    <tr>\n",
       "      <th>40179</th>\n",
       "      <td>Underwear body</td>\n",
       "      <td>283</td>\n",
       "      <td>Underwear</td>\n",
       "      <td>9</td>\n",
       "      <td>Black</td>\n",
       "    </tr>\n",
       "    <tr>\n",
       "      <th>59458</th>\n",
       "      <td>Bikini top</td>\n",
       "      <td>298</td>\n",
       "      <td>Swimwear</td>\n",
       "      <td>9</td>\n",
       "      <td>Black</td>\n",
       "    </tr>\n",
       "    <tr>\n",
       "      <th>60253</th>\n",
       "      <td>Sweater</td>\n",
       "      <td>252</td>\n",
       "      <td>Garment Upper body</td>\n",
       "      <td>9</td>\n",
       "      <td>Black</td>\n",
       "    </tr>\n",
       "    <tr>\n",
       "      <th>60259</th>\n",
       "      <td>Sweater</td>\n",
       "      <td>252</td>\n",
       "      <td>Garment Upper body</td>\n",
       "      <td>7</td>\n",
       "      <td>Grey</td>\n",
       "    </tr>\n",
       "    <tr>\n",
       "      <th>67274</th>\n",
       "      <td>Trousers</td>\n",
       "      <td>272</td>\n",
       "      <td>Garment Lower body</td>\n",
       "      <td>71</td>\n",
       "      <td>Light Blue</td>\n",
       "    </tr>\n",
       "    <tr>\n",
       "      <th>78503</th>\n",
       "      <td>Jacket</td>\n",
       "      <td>262</td>\n",
       "      <td>Garment Upper body</td>\n",
       "      <td>15</td>\n",
       "      <td>Greyish Beige</td>\n",
       "    </tr>\n",
       "    <tr>\n",
       "      <th>91841</th>\n",
       "      <td>Skirt</td>\n",
       "      <td>275</td>\n",
       "      <td>Garment Lower body</td>\n",
       "      <td>13</td>\n",
       "      <td>Beige</td>\n",
       "    </tr>\n",
       "    <tr>\n",
       "      <th>92158</th>\n",
       "      <td>Sweater</td>\n",
       "      <td>252</td>\n",
       "      <td>Garment Upper body</td>\n",
       "      <td>9</td>\n",
       "      <td>Black</td>\n",
       "    </tr>\n",
       "    <tr>\n",
       "      <th>92159</th>\n",
       "      <td>Sweater</td>\n",
       "      <td>252</td>\n",
       "      <td>Garment Upper body</td>\n",
       "      <td>19</td>\n",
       "      <td>Greenish Khaki</td>\n",
       "    </tr>\n",
       "    <tr>\n",
       "      <th>93585</th>\n",
       "      <td>Blouse</td>\n",
       "      <td>258</td>\n",
       "      <td>Garment Upper body</td>\n",
       "      <td>52</td>\n",
       "      <td>Pink</td>\n",
       "    </tr>\n",
       "    <tr>\n",
       "      <th>96382</th>\n",
       "      <td>Shirt</td>\n",
       "      <td>259</td>\n",
       "      <td>Garment Upper body</td>\n",
       "      <td>19</td>\n",
       "      <td>Greenish Khaki</td>\n",
       "    </tr>\n",
       "  </tbody>\n",
       "</table>\n",
       "</div>"
      ],
      "text/plain": [
       "      product_type_name  product_type_no  product_group_name  \\\n",
       "1469    Swimwear bottom               59            Swimwear   \n",
       "10520               Bra              306           Underwear   \n",
       "18197            Blouse              258  Garment Upper body   \n",
       "40179    Underwear body              283           Underwear   \n",
       "59458        Bikini top              298            Swimwear   \n",
       "60253           Sweater              252  Garment Upper body   \n",
       "60259           Sweater              252  Garment Upper body   \n",
       "67274          Trousers              272  Garment Lower body   \n",
       "78503            Jacket              262  Garment Upper body   \n",
       "91841             Skirt              275  Garment Lower body   \n",
       "92158           Sweater              252  Garment Upper body   \n",
       "92159           Sweater              252  Garment Upper body   \n",
       "93585            Blouse              258  Garment Upper body   \n",
       "96382             Shirt              259  Garment Upper body   \n",
       "\n",
       "       colour_group_code colour_group_name  \n",
       "1469                   9             Black  \n",
       "10520                 51        Light Pink  \n",
       "18197                 71        Light Blue  \n",
       "40179                  9             Black  \n",
       "59458                  9             Black  \n",
       "60253                  9             Black  \n",
       "60259                  7              Grey  \n",
       "67274                 71        Light Blue  \n",
       "78503                 15     Greyish Beige  \n",
       "91841                 13             Beige  \n",
       "92158                  9             Black  \n",
       "92159                 19    Greenish Khaki  \n",
       "93585                 52              Pink  \n",
       "96382                 19    Greenish Khaki  "
      ]
     },
     "execution_count": 5,
     "metadata": {},
     "output_type": "execute_result"
    }
   ],
   "source": [
    "customer_0 = transactions.iloc[0]['customer_id']\n",
    "article_ids = transactions.loc[transactions['customer_id'] == customer_0]['article_id'].to_numpy()\n",
    "\n",
    "columns = ['product_type_name','product_type_no','product_group_name','colour_group_code', 'colour_group_name']\n",
    "\n",
    "articles.loc[articles['article_id'].isin(article_ids)].loc[:,columns]"
   ]
  },
  {
   "cell_type": "code",
   "execution_count": 6,
   "id": "c45c77b8",
   "metadata": {},
   "outputs": [
    {
     "name": "stdout",
     "output_type": "stream",
     "text": [
      "[ -1  49  57  59  60  66  67  68  69  70  71  72  73  74  75  76  77  78\n",
      "  79  80  81  82  83  84  85  86  87  88  89  90  91  92  93  94  95  96\n",
      "  98 100 102 144 155 156 161 196 230 231 245 252 253 254 255 256 257 258\n",
      " 259 260 261 262 263 264 265 267 268 270 271 272 273 274 275 276 277 283\n",
      " 284 285 286 287 288 289 291 293 295 296 297 298 299 300 302 303 304 305\n",
      " 306 307 308 326 349 351 366 389 464 465 467 468 470 475 476 477 483 489\n",
      " 491 492 493 494 495 496 498 499 503 504 508 509 510 511 512 514 515 521\n",
      " 523 525 529 532 761 762]\n",
      "# of unique types: 132\n"
     ]
    }
   ],
   "source": [
    "unique_types = np.unique(articles['product_type_no'].to_numpy())\n",
    "print(unique_types)\n",
    "print(f\"# of unique types: {len(unique_types)}\")"
   ]
  },
  {
   "cell_type": "code",
   "execution_count": 7,
   "id": "c7e3cff7",
   "metadata": {},
   "outputs": [
    {
     "name": "stdout",
     "output_type": "stream",
     "text": [
      "[-1  1  2  3  4  5  6  7  8  9 10 11 12 13 14 15 17 19 20 21 22 23 30 31\n",
      " 32 33 40 41 42 43 50 51 52 53 60 61 62 63 70 71 72 73 80 81 82 83 90 91\n",
      " 92 93]\n",
      "# of unique colors: 50\n"
     ]
    }
   ],
   "source": [
    "unique_colors = np.unique(articles['colour_group_code'].to_numpy())\n",
    "print(unique_colors)\n",
    "print(f\"# of unique colors: {len(unique_colors)}\")"
   ]
  },
  {
   "cell_type": "code",
   "execution_count": 8,
   "id": "2d1007a5",
   "metadata": {},
   "outputs": [],
   "source": [
    "type_dict = {}\n",
    "for idx, val in enumerate(unique_types):\n",
    "    type_dict[val] = idx\n",
    "    \n",
    "color_dict = {}\n",
    "for idx, val in enumerate(unique_colors):\n",
    "    color_dict[val] = idx"
   ]
  },
  {
   "cell_type": "code",
   "execution_count": 9,
   "id": "b1f33cb3",
   "metadata": {},
   "outputs": [],
   "source": [
    "from typing import Tuple, List"
   ]
  },
  {
   "cell_type": "code",
   "execution_count": 10,
   "id": "b7572e02",
   "metadata": {},
   "outputs": [],
   "source": [
    "def get_feature_vector_for_user(userid:int, type_dict:dict, color_dict:dict) -> List[Tuple[np.ndarray,np.ndarray]]:\n",
    "    article_ids = transactions.loc[transactions['customer_id'] == userid]['article_id'].to_numpy()\n",
    "    \n",
    "    columns = ['product_type_no','colour_group_code']\n",
    "    user_purchases = articles.loc[articles['article_id'].isin(article_ids)].loc[:,columns]\n",
    "    \n",
    "    feature_vector = []\n",
    "    for idx, purchase in user_purchases.iterrows():\n",
    "        type_onehot  = type_dict[purchase['product_type_no']]\n",
    "        color_onehot = color_dict[purchase['colour_group_code']]\n",
    "        \n",
    "        feature  = np.zeros(len(type_dict)+len(color_dict))\n",
    "        feature[type_onehot] = 1.0\n",
    "        feature[color_onehot+len(type_dict)] = 1.0\n",
    "        \n",
    "        feature_vector.append(feature)\n",
    "        \n",
    "    feature_vector = np.stack(feature_vector)\n",
    "    return feature_vector\n",
    "#     print(feature_vector)"
   ]
  },
  {
   "cell_type": "code",
   "execution_count": 11,
   "id": "f1999fc2",
   "metadata": {},
   "outputs": [
    {
     "name": "stdout",
     "output_type": "stream",
     "text": [
      "[[0. 0. 0. ... 0. 0. 0.]\n",
      " [0. 0. 0. ... 0. 0. 0.]\n",
      " [0. 0. 0. ... 0. 0. 0.]\n",
      " ...\n",
      " [0. 0. 0. ... 0. 0. 0.]\n",
      " [0. 0. 0. ... 0. 0. 0.]\n",
      " [0. 0. 0. ... 0. 0. 0.]]\n"
     ]
    }
   ],
   "source": [
    "print(get_feature_vector_for_user(customer_0, type_dict, color_dict))"
   ]
  },
  {
   "cell_type": "code",
   "execution_count": 230,
   "id": "c49e269e",
   "metadata": {},
   "outputs": [],
   "source": [
    "unique_users = np.unique(transactions['customer_id'].to_numpy())"
   ]
  },
  {
   "cell_type": "code",
   "execution_count": 13,
   "id": "255c3ab4",
   "metadata": {},
   "outputs": [],
   "source": [
    "from tqdm import tqdm"
   ]
  },
  {
   "cell_type": "code",
   "execution_count": 231,
   "id": "5c814366",
   "metadata": {},
   "outputs": [
    {
     "name": "stderr",
     "output_type": "stream",
     "text": [
      "100%|████████████████████████████████████████████████████████████████████████████████████████████████████████████████████████████████████| 200/200 [04:03<00:00,  1.22s/it]\n"
     ]
    }
   ],
   "source": [
    "N = 200\n",
    "all_user_feature_vectors = []\n",
    "training_users = np.random.choice(unique_users.shape[0], N, replace=False)\n",
    "for user in tqdm(unique_users[training_users]):\n",
    "    feature_vector = get_feature_vector_for_user(user, type_dict, color_dict)\n",
    "    all_user_feature_vectors.append(feature_vector)"
   ]
  },
  {
   "cell_type": "code",
   "execution_count": 38,
   "id": "60d2c710",
   "metadata": {},
   "outputs": [],
   "source": [
    "def get_model(input_width:int, output_width:int, lr:float=0.01) -> tf.keras.Model:\n",
    "    model = tf.keras.Sequential([\n",
    "        tf.keras.layers.Dense(input_width, activation='relu', input_shape=(input_width,)),\n",
    "        tf.keras.layers.Dense(2*input_width, activation='relu'),\n",
    "        tf.keras.layers.Dense(2*input_width, activation='relu'),\n",
    "        tf.keras.layers.Dense(output_width, activation='softmax'),\n",
    "    ])\n",
    "    model.compile(\n",
    "        optimizer=tf.keras.optimizers.SGD(learning_rate=lr),\n",
    "        loss='categorical_crossentropy',\n",
    "        metrics=['acc']\n",
    "    )\n",
    "    return model"
   ]
  },
  {
   "cell_type": "code",
   "execution_count": 327,
   "id": "b3c591d4",
   "metadata": {},
   "outputs": [],
   "source": [
    "def get_data_permutations(all_user_feature_vectors) -> Tuple[np.ndarray,np.ndarray]:\n",
    "    inputs  = []\n",
    "    outputs = []\n",
    "    for user in all_user_feature_vectors:\n",
    "        if len(user) < 3:\n",
    "            continue\n",
    "        for i, input_feature in enumerate(user[:-1]):\n",
    "            for j, output_feature in enumerate(user):\n",
    "                if i == j:\n",
    "                    continue\n",
    "                inputs.append(np.concatenate([input_feature,user[i+1]]))\n",
    "                outputs.append(output_feature)\n",
    "    inputs = np.stack(inputs)\n",
    "    outputs = np.stack(outputs)\n",
    "    return inputs, outputs"
   ]
  },
  {
   "cell_type": "code",
   "execution_count": 328,
   "id": "ba98aea6",
   "metadata": {},
   "outputs": [
    {
     "name": "stdout",
     "output_type": "stream",
     "text": [
      "(415008, 364)\n",
      "(415008, 182)\n"
     ]
    }
   ],
   "source": [
    "inputs, outputs = get_data_permutations(all_user_feature_vectors)\n",
    "print(np.shape(inputs))\n",
    "print(np.shape(outputs))"
   ]
  },
  {
   "cell_type": "code",
   "execution_count": 239,
   "id": "dff0d6a9",
   "metadata": {},
   "outputs": [],
   "source": [
    "epochs     = 10\n",
    "lr         = 0.05\n",
    "batch_size = 32"
   ]
  },
  {
   "cell_type": "code",
   "execution_count": 329,
   "id": "3f8f4e78",
   "metadata": {},
   "outputs": [],
   "source": [
    "color_model = get_model(input_width=2*(len(unique_types)+len(unique_colors)), output_width=len(unique_colors), lr=lr)\n",
    "type_model  = get_model(input_width=2*(len(unique_types)+len(unique_colors)), output_width=len(unique_types),  lr=lr)"
   ]
  },
  {
   "cell_type": "code",
   "execution_count": 330,
   "id": "67a0ec47",
   "metadata": {},
   "outputs": [
    {
     "name": "stdout",
     "output_type": "stream",
     "text": [
      "Model: \"sequential_16\"\n",
      "_________________________________________________________________\n",
      " Layer (type)                Output Shape              Param #   \n",
      "=================================================================\n",
      " dense_64 (Dense)            (None, 364)               132860    \n",
      "                                                                 \n",
      " dense_65 (Dense)            (None, 728)               265720    \n",
      "                                                                 \n",
      " dense_66 (Dense)            (None, 728)               530712    \n",
      "                                                                 \n",
      " dense_67 (Dense)            (None, 50)                36450     \n",
      "                                                                 \n",
      "=================================================================\n",
      "Total params: 965,742\n",
      "Trainable params: 965,742\n",
      "Non-trainable params: 0\n",
      "_________________________________________________________________\n",
      "Model: \"sequential_17\"\n",
      "_________________________________________________________________\n",
      " Layer (type)                Output Shape              Param #   \n",
      "=================================================================\n",
      " dense_68 (Dense)            (None, 364)               132860    \n",
      "                                                                 \n",
      " dense_69 (Dense)            (None, 728)               265720    \n",
      "                                                                 \n",
      " dense_70 (Dense)            (None, 728)               530712    \n",
      "                                                                 \n",
      " dense_71 (Dense)            (None, 132)               96228     \n",
      "                                                                 \n",
      "=================================================================\n",
      "Total params: 1,025,520\n",
      "Trainable params: 1,025,520\n",
      "Non-trainable params: 0\n",
      "_________________________________________________________________\n"
     ]
    }
   ],
   "source": [
    "color_model.summary()\n",
    "type_model.summary()"
   ]
  },
  {
   "cell_type": "code",
   "execution_count": 331,
   "id": "a4a5db65",
   "metadata": {},
   "outputs": [
    {
     "data": {
      "text/plain": [
       "(415008, 50)"
      ]
     },
     "execution_count": 331,
     "metadata": {},
     "output_type": "execute_result"
    }
   ],
   "source": [
    "np.shape(outputs[:,len(unique_types):])"
   ]
  },
  {
   "cell_type": "code",
   "execution_count": 332,
   "id": "8585e0ca",
   "metadata": {},
   "outputs": [
    {
     "name": "stdout",
     "output_type": "stream",
     "text": [
      "Epoch 1/10\n",
      "12969/12969 [==============================] - 21s 2ms/step - loss: 2.7456 - acc: 0.3288\n",
      "Epoch 2/10\n",
      "12969/12969 [==============================] - 21s 2ms/step - loss: 2.7041 - acc: 0.3289\n",
      "Epoch 3/10\n",
      "12969/12969 [==============================] - 21s 2ms/step - loss: 2.6889 - acc: 0.3290\n",
      "Epoch 4/10\n",
      "12969/12969 [==============================] - 22s 2ms/step - loss: 2.6767 - acc: 0.3291\n",
      "Epoch 5/10\n",
      "12969/12969 [==============================] - 22s 2ms/step - loss: 2.6661 - acc: 0.3292\n",
      "Epoch 6/10\n",
      "12969/12969 [==============================] - 22s 2ms/step - loss: 2.6568 - acc: 0.3294\n",
      "Epoch 7/10\n",
      "12969/12969 [==============================] - 20s 2ms/step - loss: 2.6475 - acc: 0.3298\n",
      "Epoch 8/10\n",
      "12969/12969 [==============================] - 21s 2ms/step - loss: 2.6393 - acc: 0.3299\n",
      "Epoch 9/10\n",
      "12969/12969 [==============================] - 21s 2ms/step - loss: 2.6318 - acc: 0.3302\n",
      "Epoch 10/10\n",
      "12969/12969 [==============================] - 21s 2ms/step - loss: 2.6251 - acc: 0.3302\n"
     ]
    },
    {
     "data": {
      "text/plain": [
       "<keras.callbacks.History at 0x7fa0dc7ad550>"
      ]
     },
     "execution_count": 332,
     "metadata": {},
     "output_type": "execute_result"
    }
   ],
   "source": [
    "color_model.fit(inputs,outputs[:,len(unique_types):],epochs=epochs,batch_size=batch_size)"
   ]
  },
  {
   "cell_type": "code",
   "execution_count": 333,
   "id": "475fe32d",
   "metadata": {},
   "outputs": [
    {
     "data": {
      "text/plain": [
       "(415008, 132)"
      ]
     },
     "execution_count": 333,
     "metadata": {},
     "output_type": "execute_result"
    }
   ],
   "source": [
    "np.shape(outputs[:,:len(unique_types)])"
   ]
  },
  {
   "cell_type": "code",
   "execution_count": 334,
   "id": "6b3fc060",
   "metadata": {},
   "outputs": [
    {
     "name": "stdout",
     "output_type": "stream",
     "text": [
      "Epoch 1/10\n",
      "12969/12969 [==============================] - 22s 2ms/step - loss: 3.1702 - acc: 0.1719\n",
      "Epoch 2/10\n",
      "12969/12969 [==============================] - 22s 2ms/step - loss: 3.0865 - acc: 0.1791\n",
      "Epoch 3/10\n",
      "12969/12969 [==============================] - 20s 2ms/step - loss: 3.0392 - acc: 0.1846\n",
      "Epoch 4/10\n",
      "12969/12969 [==============================] - 21s 2ms/step - loss: 3.0042 - acc: 0.1881\n",
      "Epoch 5/10\n",
      "12969/12969 [==============================] - 22s 2ms/step - loss: 2.9778 - acc: 0.1915\n",
      "Epoch 6/10\n",
      "12969/12969 [==============================] - 22s 2ms/step - loss: 2.9580 - acc: 0.1936\n",
      "Epoch 7/10\n",
      "12969/12969 [==============================] - 22s 2ms/step - loss: 2.9420 - acc: 0.1958\n",
      "Epoch 8/10\n",
      "12969/12969 [==============================] - 21s 2ms/step - loss: 2.9286 - acc: 0.1974\n",
      "Epoch 9/10\n",
      "12969/12969 [==============================] - 21s 2ms/step - loss: 2.9169 - acc: 0.1988\n",
      "Epoch 10/10\n",
      "12969/12969 [==============================] - 22s 2ms/step - loss: 2.9068 - acc: 0.1998\n"
     ]
    }
   ],
   "source": [
    "history = type_model.fit(inputs,outputs[:,:len(unique_types)],epochs=epochs)"
   ]
  },
  {
   "cell_type": "code",
   "execution_count": 46,
   "id": "b5c37309",
   "metadata": {},
   "outputs": [],
   "source": [
    "import matplotlib.pyplot as plt"
   ]
  },
  {
   "cell_type": "code",
   "execution_count": 335,
   "id": "aaa58c3f",
   "metadata": {},
   "outputs": [
    {
     "data": {
      "image/png": "[encoded data removed]",
      "text/plain": [
       "<Figure size 640x480 with 1 Axes>"
      ]
     },
     "metadata": {},
     "output_type": "display_data"
    }
   ],
   "source": [
    "plt.plot(history.history['loss'], label = 'training_loss')\n",
    "plt.plot(history.history['acc'], label = 'training_accuracy')\n",
    "plt.legend()\n",
    "plt.grid(True)\n",
    "plt.show()"
   ]
  },
  {
   "cell_type": "code",
   "execution_count": 336,
   "id": "966ec664",
   "metadata": {},
   "outputs": [],
   "source": [
    "type_model.save_weights('weights/type/type_prediction.weights')\n",
    "color_model.save_weights('weights/color/color_prediction.weights')"
   ]
  },
  {
   "cell_type": "code",
   "execution_count": 411,
   "id": "e72ab3ef",
   "metadata": {},
   "outputs": [
    {
     "name": "stderr",
     "output_type": "stream",
     "text": [
      "100%|██████████████████████████████████████████████████████████████████████████████████████████████████████████████████████████████████████| 50/50 [00:52<00:00,  1.06s/it]\n"
     ]
    }
   ],
   "source": [
    "N = 50\n",
    "test_user_feature_vectors = []\n",
    "testing_users = np.random.choice(unique_users.shape[0], N, replace=False)\n",
    "for user in tqdm(unique_users[testing_users]):\n",
    "    feature_vector = get_feature_vector_for_user(user, type_dict, color_dict)\n",
    "    test_user_feature_vectors.append(feature_vector)"
   ]
  },
  {
   "cell_type": "code",
   "execution_count": 412,
   "id": "8762e8c1",
   "metadata": {},
   "outputs": [],
   "source": [
    "test_inputs, test_outputs = get_data_permutations(test_user_feature_vectors)"
   ]
  },
  {
   "cell_type": "code",
   "execution_count": 413,
   "id": "5bf8b8b3",
   "metadata": {},
   "outputs": [
    {
     "name": "stdout",
     "output_type": "stream",
     "text": [
      "(193934, 364)\n"
     ]
    }
   ],
   "source": [
    "print(np.shape(test_inputs))"
   ]
  },
  {
   "cell_type": "code",
   "execution_count": 414,
   "id": "a5895eed",
   "metadata": {},
   "outputs": [
    {
     "name": "stdout",
     "output_type": "stream",
     "text": [
      "6061/6061 [==============================] - 4s 660us/step\n",
      "6061/6061 [==============================] - 4s 658us/step\n"
     ]
    }
   ],
   "source": [
    "predicted_colors = color_model.predict(test_inputs)\n",
    "predicted_types  = type_model.predict(test_inputs)"
   ]
  },
  {
   "cell_type": "code",
   "execution_count": 415,
   "id": "047d55eb",
   "metadata": {},
   "outputs": [
    {
     "name": "stdout",
     "output_type": "stream",
     "text": [
      "color accuracy: 41.46%\n"
     ]
    }
   ],
   "source": [
    "colors_predicted = np.argmax(predicted_colors,axis=-1)\n",
    "colors_actual = np.argmax(test_outputs[:,len(unique_types):],axis=-1)\n",
    "\n",
    "_, false_true = np.unique(colors_predicted==colors_actual,return_counts=True)\n",
    "\n",
    "accuracy = false_true[-1] / len(test_outputs)\n",
    "print(f\"color accuracy: {round(accuracy,4)*100}%\")"
   ]
  },
  {
   "cell_type": "code",
   "execution_count": 416,
   "id": "c9b3a18d",
   "metadata": {},
   "outputs": [
    {
     "name": "stdout",
     "output_type": "stream",
     "text": [
      "type accuracy: 11.1%\n"
     ]
    }
   ],
   "source": [
    "types_predicted = np.argmax(predicted_types,axis=-1)\n",
    "types_actual = np.argmax(test_outputs[:,:len(unique_types)],axis=-1)\n",
    "\n",
    "_, false_true = np.unique(types_predicted==types_actual,return_counts=True)\n",
    "\n",
    "accuracy = false_true[-1] / len(test_outputs)\n",
    "print(f\"type accuracy: {round(accuracy,4)*100}%\")"
   ]
  },
  {
   "cell_type": "code",
   "execution_count": 96,
   "id": "aea98151",
   "metadata": {},
   "outputs": [
    {
     "name": "stdout",
     "output_type": "stream",
     "text": [
      "               label  code   oh\n",
      "0            Unknown    -1    0\n",
      "1      Sleeping sack    49    1\n",
      "2           Swimsuit    57    2\n",
      "3    Swimwear bottom    59    3\n",
      "4       Swimwear top    60    4\n",
      "..               ...   ...  ...\n",
      "127         Keychain   525  127\n",
      "128      Mobile case   529  128\n",
      "129         Umbrella   532  129\n",
      "130       Marker pen   761  130\n",
      "131      Zipper head   762  131\n",
      "\n",
      "[132 rows x 3 columns]\n"
     ]
    }
   ],
   "source": [
    "article_dict = {\n",
    "    'label':[],\n",
    "    'code':[],\n",
    "    'oh':[],\n",
    "}\n",
    "for article_type, onehot in type_dict.items():\n",
    "#     print(article_type)\n",
    "    article_dict['label'].append(articles.loc[articles['product_type_no']==article_type]['product_type_name'].iloc[0])\n",
    "    article_dict['code'].append(article_type)\n",
    "    article_dict['oh'].append(onehot)\n",
    "    \n",
    "article_df = pd.DataFrame(article_dict)\n",
    "print(article_df)\n",
    "article_df.to_csv(\"data/article_dict.csv\")"
   ]
  },
  {
   "cell_type": "code",
   "execution_count": 97,
   "id": "061cd7c2",
   "metadata": {},
   "outputs": [
    {
     "name": "stdout",
     "output_type": "stream",
     "text": [
      "              label  code  oh\n",
      "0           Unknown    -1   0\n",
      "1             Other     1   1\n",
      "2       Transparent     2   2\n",
      "3            Silver     3   3\n",
      "4     Bronze/Copper     4   4\n",
      "5              Gold     5   5\n",
      "6        Light Grey     6   6\n",
      "7              Grey     7   7\n",
      "8         Dark Grey     8   8\n",
      "9             Black     9   9\n",
      "10            White    10  10\n",
      "11        Off White    11  11\n",
      "12      Light Beige    12  12\n",
      "13            Beige    13  13\n",
      "14       Dark Beige    14  14\n",
      "15    Greyish Beige    15  15\n",
      "16  Yellowish Brown    17  16\n",
      "17   Greenish Khaki    19  17\n",
      "18     Other Yellow    20  18\n",
      "19     Light Yellow    21  19\n",
      "20           Yellow    22  20\n",
      "21      Dark Yellow    23  21\n",
      "22     Other Orange    30  22\n",
      "23     Light Orange    31  23\n",
      "24           Orange    32  24\n",
      "25      Dark Orange    33  25\n",
      "26        Other Red    40  26\n",
      "27        Light Red    41  27\n",
      "28              Red    42  28\n",
      "29         Dark Red    43  29\n",
      "30       Other Pink    50  30\n",
      "31       Light Pink    51  31\n",
      "32             Pink    52  32\n",
      "33        Dark Pink    53  33\n",
      "34     Other Purple    60  34\n",
      "35     Light Purple    61  35\n",
      "36           Purple    62  36\n",
      "37      Dark Purple    63  37\n",
      "38       Other Blue    70  38\n",
      "39       Light Blue    71  39\n",
      "40             Blue    72  40\n",
      "41        Dark Blue    73  41\n",
      "42  Other Turquoise    80  42\n",
      "43  Light Turquoise    81  43\n",
      "44        Turquoise    82  44\n",
      "45   Dark Turquoise    83  45\n",
      "46      Other Green    90  46\n",
      "47      Light Green    91  47\n",
      "48            Green    92  48\n",
      "49       Dark Green    93  49\n"
     ]
    }
   ],
   "source": [
    "colors_dict = {\n",
    "    'label':[],\n",
    "    'code':[],\n",
    "    'oh':[],\n",
    "}\n",
    "for color_type, onehot in color_dict.items():\n",
    "    colors_dict['label'].append(articles.loc[articles['colour_group_code']==color_type]['colour_group_name'].iloc[0])\n",
    "    colors_dict['code'].append(color_type)\n",
    "    colors_dict['oh'].append(onehot)\n",
    "    \n",
    "color_df = pd.DataFrame(colors_dict)\n",
    "print(color_df)\n",
    "color_df.to_csv(\"data/colors_dict.csv\")"
   ]
  },
  {
   "cell_type": "code",
   "execution_count": 364,
   "id": "fd478f1b",
   "metadata": {},
   "outputs": [],
   "source": [
    "def do_inference(\n",
    "    item_type:Tuple[str,str],\n",
    "    item_color:Tuple[str,str],\n",
    "    type_df:pd.DataFrame,\n",
    "    color_df:pd.DataFrame,\n",
    "    type_model:tf.keras.Model,\n",
    "    color_model:tf.keras.Model\n",
    ") -> Tuple[str,str]:\n",
    "\n",
    "    num_type_categories  = 132\n",
    "    num_color_categories = 50\n",
    "    \n",
    "    type_idx  = type_df.loc[type_df['label'].isin(item_type)]['oh'].values\n",
    "    color_idx = color_df.loc[color_df['label'].isin(item_color)]['oh'].values\n",
    "    \n",
    "    input_vector = np.zeros((1,2*(num_type_categories+num_color_categories)))\n",
    "    input_vector[0][type_idx[0]] = 1.0\n",
    "    input_vector[0][num_type_categories+color_idx[0]] = 1.0\n",
    "    input_vector[0][num_type_categories+num_color_categories+type_idx[1]] = 1.0\n",
    "    input_vector[0][(2*num_type_categories)+num_color_categories+color_idx[1]] = 1.0\n",
    "    \n",
    "    type_prediction  = type_model.predict(input_vector,verbose=0)\n",
    "    color_prediction = color_model.predict(input_vector,verbose=0)\n",
    "    \n",
    "    unsorted_top_types  = np.argpartition(type_prediction, -4)[0][-4:]\n",
    "    unsorted_top_colors = np.argpartition(color_prediction, -4)[0][-4:]\n",
    "    \n",
    "    top_types  = unsorted_top_types[np.argsort(type_prediction[0,unsorted_top_types])]\n",
    "    top_colors = unsorted_top_colors[np.argsort(color_prediction[0,unsorted_top_colors])]\n",
    "    \n",
    "    type_lookup  = type_df.loc[type_df['oh'].isin(top_types)]['label'].values\n",
    "    color_lookup = color_df.loc[color_df['oh'].isin(top_colors)]['label'].values\n",
    "    \n",
    "    return type_lookup, color_lookup"
   ]
  },
  {
   "cell_type": "code",
   "execution_count": 383,
   "id": "ede585dd",
   "metadata": {},
   "outputs": [],
   "source": [
    "from math import floor"
   ]
  },
  {
   "cell_type": "code",
   "execution_count": 410,
   "id": "7d8a6e4d",
   "metadata": {},
   "outputs": [
    {
     "name": "stdout",
     "output_type": "stream",
     "text": [
      "Generating predictions for a user that likes Unknown Bag, and Orange Hair string\n",
      "       article_id  product_code prod_name  product_type_no product_type_name  \\\n",
      "21505   594534003        594534   Killian              253          Vest top   \n",
      "\n",
      "       product_group_name  graphical_appearance_no graphical_appearance_name  \\\n",
      "21505  Garment Upper body                  1010011                  Metallic   \n",
      "\n",
      "       colour_group_code colour_group_name  ...  department_name index_code  \\\n",
      "21505                  5              Gold  ...     Jersey fancy          A   \n",
      "\n",
      "       index_name index_group_no  index_group_name section_no  \\\n",
      "21505  Ladieswear              1        Ladieswear         15   \n",
      "\n",
      "                     section_name garment_group_no  garment_group_name  \\\n",
      "21505  Womens Everyday Collection             1005        Jersey Fancy   \n",
      "\n",
      "                                             detail_desc  \n",
      "21505  Top in soft, lustrous jersey with spaghetti sh...  \n",
      "\n",
      "[1 rows x 25 columns]\n",
      "     article_id  product_code          prod_name  product_type_no  \\\n",
      "43    145872051        145872   Dorian l/s basic              254   \n",
      "81    163734002        163734  KOMPIS 2-pack L/S              254   \n",
      "396   237222001        237222           Helsinki              254   \n",
      "573   264984001        264984             Billie              254   \n",
      "613   269342021        269342        Tina NT s/s              254   \n",
      "\n",
      "    product_type_name  product_group_name  graphical_appearance_no  \\\n",
      "43                Top  Garment Upper body                  1010010   \n",
      "81                Top  Garment Upper body                  1010016   \n",
      "396               Top  Garment Upper body                  1010016   \n",
      "573               Top  Garment Upper body                  1010016   \n",
      "613               Top  Garment Upper body                  1010017   \n",
      "\n",
      "    graphical_appearance_name  colour_group_code colour_group_name  ...  \\\n",
      "43                    Melange                  9             Black  ...   \n",
      "81                      Solid                  9             Black  ...   \n",
      "396                     Solid                  9             Black  ...   \n",
      "573                     Solid                  9             Black  ...   \n",
      "613                    Stripe                  9             Black  ...   \n",
      "\n",
      "             department_name index_code              index_name  \\\n",
      "43           Men Sport Woven          S                   Sport   \n",
      "81   Young Girl Jersey Basic          I  Children Sizes 134-170   \n",
      "396             Jersey Basic          A              Ladieswear   \n",
      "573             Jersey Basic          A              Ladieswear   \n",
      "613                  Nursing          A              Ladieswear   \n",
      "\n",
      "    index_group_no  index_group_name section_no              section_name  \\\n",
      "43              26             Sport         22             Men H&M Sport   \n",
      "81               4     Baby/Children         79  Girls Underwear & Basics   \n",
      "396              1        Ladieswear         16    Womens Everyday Basics   \n",
      "573              1        Ladieswear         16    Womens Everyday Basics   \n",
      "613              1        Ladieswear          8                      Mama   \n",
      "\n",
      "    garment_group_no  garment_group_name  \\\n",
      "43              1005        Jersey Fancy   \n",
      "81              1002        Jersey Basic   \n",
      "396             1002        Jersey Basic   \n",
      "573             1002        Jersey Basic   \n",
      "613             1005        Jersey Fancy   \n",
      "\n",
      "                                           detail_desc  \n",
      "43   Long-sleeved sports top in fast-drying, breath...  \n",
      "81           Long-sleeved tops in soft organic cotton.  \n",
      "396  Fitted Henley top in soft cotton jersey with a...  \n",
      "573  Fitted top in jersey with a wide neckline and ...  \n",
      "613  Short-sleeved top in soft jersey with a unique...  \n",
      "\n",
      "[5 rows x 25 columns]\n",
      "     article_id  product_code                     prod_name  product_type_no  \\\n",
      "240   203027047        203027                 Linni tee (1)              255   \n",
      "295   215337001        215337                    Pamela tee              255   \n",
      "360   225784043        225784       HARLEY 2-pack basic tee              255   \n",
      "362   225784045        225784       HARLEY 2-pack basic tee              255   \n",
      "554   260736026        260736  NATE  basic S/S solid tee BB              255   \n",
      "\n",
      "    product_type_name  product_group_name  graphical_appearance_no  \\\n",
      "240           T-shirt  Garment Upper body                  1010017   \n",
      "295           T-shirt  Garment Upper body                  1010016   \n",
      "360           T-shirt  Garment Upper body                  1010017   \n",
      "362           T-shirt  Garment Upper body                  1010001   \n",
      "554           T-shirt  Garment Upper body                  1010016   \n",
      "\n",
      "    graphical_appearance_name  colour_group_code colour_group_name  ...  \\\n",
      "240                    Stripe                 10             White  ...   \n",
      "295                     Solid                 10             White  ...   \n",
      "360                    Stripe                 10             White  ...   \n",
      "362          All over pattern                 10             White  ...   \n",
      "554                     Solid                 10             White  ...   \n",
      "\n",
      "             department_name index_code              index_name  \\\n",
      "240                  Basic 1          D                 Divided   \n",
      "295                  Basic 1          D                 Divided   \n",
      "360  Young Girl Jersey Basic          I  Children Sizes 134-170   \n",
      "362  Young Girl Jersey Basic          I  Children Sizes 134-170   \n",
      "554   Young Boy Jersey Basic          I  Children Sizes 134-170   \n",
      "\n",
      "    index_group_no  index_group_name section_no              section_name  \\\n",
      "240              2           Divided         51            Divided Basics   \n",
      "295              2           Divided         51            Divided Basics   \n",
      "360              4     Baby/Children         79  Girls Underwear & Basics   \n",
      "362              4     Baby/Children         79  Girls Underwear & Basics   \n",
      "554              4     Baby/Children         72   Boys Underwear & Basics   \n",
      "\n",
      "    garment_group_no  garment_group_name  \\\n",
      "240             1002        Jersey Basic   \n",
      "295             1002        Jersey Basic   \n",
      "360             1002        Jersey Basic   \n",
      "362             1002        Jersey Basic   \n",
      "554             1002        Jersey Basic   \n",
      "\n",
      "                                           detail_desc  \n",
      "240  Short-sleeved top in jersey with sewn-in turn-...  \n",
      "295      Short-sleeved jersey top with a chest pocket.  \n",
      "360               Short-sleeved tops in cotton jersey.  \n",
      "362               Short-sleeved tops in cotton jersey.  \n",
      "554             T-shirt in soft organic cotton jersey.  \n",
      "\n",
      "[5 rows x 25 columns]\n",
      "      article_id  product_code                  prod_name  product_type_no  \\\n",
      "2584   416157013        416157               Bruce skinny              272   \n",
      "3075   447694018        447694           Benny Shorts (1)              272   \n",
      "3104   448509031        448509  Perrie Slim Mom Denim TRS              272   \n",
      "4472   484767008        484767                 Rhino Cord              272   \n",
      "5069   489838001        489838                      Barza              272   \n",
      "\n",
      "     product_type_name  product_group_name  graphical_appearance_no  \\\n",
      "2584          Trousers  Garment Lower body                  1010016   \n",
      "3075          Trousers  Garment Lower body                  1010016   \n",
      "3104          Trousers  Garment Lower body                  1010023   \n",
      "4472          Trousers  Garment Lower body                  1010009   \n",
      "5069          Trousers  Garment Lower body                  1010001   \n",
      "\n",
      "     graphical_appearance_name  colour_group_code colour_group_name  ...  \\\n",
      "2584                     Solid                 12       Light Beige  ...   \n",
      "3075                     Solid                 12       Light Beige  ...   \n",
      "3104                     Denim                 12       Light Beige  ...   \n",
      "4472       Glittering/Metallic                 12       Light Beige  ...   \n",
      "5069          All over pattern                 12       Light Beige  ...   \n",
      "\n",
      "        department_name index_code             index_name index_group_no  \\\n",
      "2584            Trouser          F               Menswear              3   \n",
      "3075       Jersey Basic          F               Menswear              3   \n",
      "3104           Trousers          D                Divided              2   \n",
      "4472  Kids Girl Trouser          H  Children Sizes 92-140              4   \n",
      "5069       Jersey fancy          A             Ladieswear              1   \n",
      "\n",
      "      index_group_name section_no                section_name  \\\n",
      "2584          Menswear         20          Contemporary Smart   \n",
      "3075          Menswear         26               Men Underwear   \n",
      "3104           Divided         53          Divided Collection   \n",
      "4472     Baby/Children         76                   Kids Girl   \n",
      "5069        Ladieswear         15  Womens Everyday Collection   \n",
      "\n",
      "     garment_group_no  garment_group_name  \\\n",
      "2584             1009            Trousers   \n",
      "3075             1002        Jersey Basic   \n",
      "3104             1009            Trousers   \n",
      "4472             1009            Trousers   \n",
      "5069             1005        Jersey Fancy   \n",
      "\n",
      "                                            detail_desc  \n",
      "2584  5-pocket trousers in washed, slightly stretchy...  \n",
      "3075  Shorts in sweatshirt fabric with an elasticate...  \n",
      "3104  5-pocket, ankle-length jeans in washed, sturdy...  \n",
      "4472  Treggings in stretch corduroy with an adjustab...  \n",
      "5069  Trousers in soft viscose jersey with an all-ov...  \n",
      "\n",
      "[5 rows x 25 columns]\n"
     ]
    },
    {
     "data": {
      "image/png": "[encoded data removed]",
      "text/plain": [
       "<Figure size 640x480 with 4 Axes>"
      ]
     },
     "metadata": {},
     "output_type": "display_data"
    }
   ],
   "source": [
    "input_type  = [article_df.sample()['label'].values[0],article_df.sample()['label'].values[0]]\n",
    "input_color = [color_df.sample()['label'].values[0],color_df.sample()['label'].values[0]]\n",
    "\n",
    "type_rec, color_rec = do_inference(\n",
    "    item_type=input_type,\n",
    "    item_color=input_color,\n",
    "    type_df=article_df,\n",
    "    color_df=color_df,\n",
    "    type_model=type_model,\n",
    "    color_model=color_model)\n",
    "\n",
    "print(f\"Generating predictions for a user that likes {input_color[0]} {input_type[0]}, and {input_color[1]} {input_type[1]}\")\n",
    "\n",
    "f, axarr = plt.subplots(2,2)\n",
    "for idx, color in enumerate(color_rec):\n",
    "    example_articles = articles.loc[articles['product_type_name']==type_rec[idx]]\n",
    "    example_articles = example_articles.loc[example_articles['colour_group_name']==color]\n",
    "    print(example_articles.head())\n",
    "    article_id = example_articles.sample()['article_id'].values[0]\n",
    "    article_filename = f\"data/images/{f'0{article_id}'[:3]}/{f'0{article_id}.jpg'}\"\n",
    "    try:\n",
    "        image = cv2.imread(article_filename)\n",
    "        x = floor(idx/2)\n",
    "        y = idx%2\n",
    "        axarr[x,y].imshow(image)\n",
    "        axarr[x,y].title.set_text(f\"{color} {type_rec[idx]}\")\n",
    "    except:\n",
    "        print(f\"Failed to open image: {article_filename}\")\n",
    "        pass\n",
    "f.tight_layout(pad=1)\n",
    "plt.show()"
   ]
  },
  {
   "cell_type": "code",
   "execution_count": null,
   "id": "b47d7150",
   "metadata": {},
   "outputs": [],
   "source": []
  },
  {
   "cell_type": "code",
   "execution_count": null,
   "id": "7434f89e",
   "metadata": {},
   "outputs": [],
   "source": []
  }
 ],
 "metadata": {
  "kernelspec": {
   "display_name": "Python 3 (ipykernel)",
   "language": "python",
   "name": "python3"
  },
  "language_info": {
   "codemirror_mode": {
    "name": "ipython",
    "version": 3
   },
   "file_extension": ".py",
   "mimetype": "text/x-python",
   "name": "python",
   "nbconvert_exporter": "python",
   "pygments_lexer": "ipython3",
   "version": "3.9.15"
  }
 },
 "nbformat": 4,
 "nbformat_minor": 5
}
